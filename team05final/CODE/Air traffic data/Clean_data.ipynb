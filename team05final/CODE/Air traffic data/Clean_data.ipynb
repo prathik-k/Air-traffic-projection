{
 "cells": [
  {
   "cell_type": "code",
   "execution_count": 1,
   "metadata": {},
   "outputs": [],
   "source": [
    "import numpy as np\n",
    "import pandas as pd"
   ]
  },
  {
   "cell_type": "code",
   "execution_count": 2,
   "metadata": {},
   "outputs": [],
   "source": [
    "def select_rows(df):\n",
    "    df_trimmed = df.loc[df['PASSENGERS'] != 0.0]\n",
    "    df_trimmed = df_trimmed.loc[df_trimmed['SEATS'] >= 100]\n",
    "    df_trimmed = df_trimmed.loc[df_trimmed['AIRCRAFT_CONFIG'].isin([1,3])]\n",
    "    df_trimmed = df_trimmed.loc[df_trimmed['AIRCRAFT_GROUP'].isin([4,6,7,8])]\n",
    "    df_trimmed.dropna(axis=0,inplace=True)\n",
    "    return df_trimmed"
   ]
  },
  {
   "cell_type": "code",
   "execution_count": 3,
   "metadata": {},
   "outputs": [],
   "source": [
    "years = [2015,2016,2017,2018,2019]\n",
    "data_by_year = {}\n",
    "for y in years:\n",
    "    df = pd.read_csv(str(y)+'_data.csv', index_col=False,encoding = 'UTF-8').drop(['Unnamed: 14'],axis=1)\n",
    "    data_by_year[str(y)] = select_rows(df)"
   ]
  },
  {
   "cell_type": "code",
   "execution_count": 4,
   "metadata": {},
   "outputs": [
    {
     "name": "stdout",
     "output_type": "stream",
     "text": [
      "dict_keys(['2015', '2016', '2017', '2018', '2019'])\n"
     ]
    }
   ],
   "source": [
    "print(data_by_year.keys())"
   ]
  }
 ],
 "metadata": {
  "kernelspec": {
   "display_name": "research",
   "language": "python",
   "name": "research"
  },
  "language_info": {
   "codemirror_mode": {
    "name": "ipython",
    "version": 3
   },
   "file_extension": ".py",
   "mimetype": "text/x-python",
   "name": "python",
   "nbconvert_exporter": "python",
   "pygments_lexer": "ipython3",
   "version": "3.7.6"
  }
 },
 "nbformat": 4,
 "nbformat_minor": 2
}
